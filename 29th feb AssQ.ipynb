{
 "cells": [
  {
   "cell_type": "code",
   "execution_count": 2,
   "id": "f4216f8a-084b-4e45-a05a-c770d1bce3d0",
   "metadata": {},
   "outputs": [],
   "source": [
    "#who Developed Python Programming Language?\n",
    "\n",
    "#Python was created by Guido van Rossum in the late 1980s"
   ]
  },
  {
   "cell_type": "code",
   "execution_count": 3,
   "id": "e3bd8c26-ed16-4109-a22f-9d8e7a4ca702",
   "metadata": {},
   "outputs": [],
   "source": [
    "#Which type of Programming does Python support?\n",
    "\n",
    "#Python is a versatile programming language that supports multiple programming paradigms, including:\n",
    "\n",
    "#1.Object-oriented programming (OOP)\n",
    "#2.Functional programming (FP)\n",
    "#3.Procedural programming (PP)"
   ]
  },
  {
   "cell_type": "code",
   "execution_count": 4,
   "id": "04393788-8a75-484c-be26-be71b02b848f",
   "metadata": {},
   "outputs": [],
   "source": [
    "#Is Python case sensitive when dealing with identifiers?\n",
    "\n",
    "#Yes, Python is a case-sensitive language when it comes to identifiers. This means that uppercase and lowercase letters are considered distinct, and using the wrong case when referring to an identifier can result in errors."
   ]
  },
  {
   "cell_type": "code",
   "execution_count": 5,
   "id": "10bd0ac0-abe4-4fcc-84c3-887d5f40717f",
   "metadata": {},
   "outputs": [],
   "source": [
    "#What is the correct extension of the Python file?\n",
    "\n",
    "#The correct extension for a Python file is \".py\". When you save a Python file, you should give it a name and append the \".py\" extension to the end of the file name."
   ]
  },
  {
   "cell_type": "code",
   "execution_count": 6,
   "id": "f3ea417f-808d-4413-b12e-05a8d59436bd",
   "metadata": {},
   "outputs": [],
   "source": [
    "#Is Python code complied or interpreted?\n",
    "\n",
    "#Python is an interpreted language. This means that when you run a Python program, the Python interpreter reads and executes each line of code in the program in a sequential order, without compiling the entire program into machine code first."
   ]
  },
  {
   "cell_type": "code",
   "execution_count": 7,
   "id": "33f94339-d71e-440c-a1ac-51fe4fcd5ceb",
   "metadata": {},
   "outputs": [],
   "source": [
    "#Name a few blocks of code used to define in Python Language?\n",
    "\n",
    "#In Python, code blocks are defined using indentation.\n",
    "#1.Function Definition Block: A block of code that defines a function. It starts with the \"def\" keyword followed by the function name and a set of parentheses that may contain parameters.\n",
    "\n",
    "def my_function(param1, param2):\n",
    "    # This is the function definition block\n",
    "    print(param1)\n",
    "    print(param2)"
   ]
  },
  {
   "cell_type": "code",
   "execution_count": 10,
   "id": "9c234cc1-273c-4cc2-a7f1-4966c5fc8999",
   "metadata": {},
   "outputs": [],
   "source": [
    "#2.Conditional Block: A block of code that executes if a certain condition is met. It starts with the \"if\" keyword followed by a condition in parentheses.\n",
    "x=3\n",
    "if x > 5:\n",
    "    # This is the conditional block\n",
    "    print(\"x is greater than 5\")"
   ]
  },
  {
   "cell_type": "code",
   "execution_count": 11,
   "id": "d6c1d1e2-b33c-4b5a-bc9e-b2a5bf5b4e41",
   "metadata": {},
   "outputs": [
    {
     "name": "stdout",
     "output_type": "stream",
     "text": [
      "0\n",
      "1\n",
      "2\n",
      "3\n",
      "4\n",
      "5\n",
      "6\n",
      "7\n",
      "8\n",
      "9\n"
     ]
    }
   ],
   "source": [
    "#3.Loop Block: A block of code that executes repeatedly while a condition is met or for a fixed number of times\n",
    "\n",
    "for i in range(10):\n",
    "    # This is the loop block\n",
    "    print(i)"
   ]
  },
  {
   "cell_type": "code",
   "execution_count": 12,
   "id": "32ebcd08-ad32-49d1-815e-62b30d645057",
   "metadata": {},
   "outputs": [
    {
     "name": "stdin",
     "output_type": "stream",
     "text": [
      "Enter a number:  555\n"
     ]
    },
    {
     "name": "stdout",
     "output_type": "stream",
     "text": [
      "The number is: 555\n"
     ]
    }
   ],
   "source": [
    "#4.Exception Block: A block of code that handles exceptions that occur during program execution.\n",
    "\n",
    "try:\n",
    "    # This is the exception block\n",
    "    x = int(input(\"Enter a number: \"))\n",
    "    print(\"The number is:\", x)\n",
    "except ValueError:\n",
    "    print(\"Invalid input. Please enter a number.\")"
   ]
  },
  {
   "cell_type": "code",
   "execution_count": 13,
   "id": "583ad5fc-3d35-44cb-9e36-38a9b8dddfd1",
   "metadata": {},
   "outputs": [
    {
     "name": "stdout",
     "output_type": "stream",
     "text": [
      "Hello, World!\n"
     ]
    }
   ],
   "source": [
    "#State a character used to give single-line comments in python?\n",
    "\n",
    "#In Python, you can create single-line comments by using the hash character (#) at the beginning of the line. Any text that follows the hash symbol on that line is ignored by the Python interprete\n",
    "# This is a single-line comment in Python\n",
    "print(\"Hello, World!\")"
   ]
  },
  {
   "cell_type": "code",
   "execution_count": 15,
   "id": "55753bac-79b1-4fa9-8295-41e0e4b4a439",
   "metadata": {},
   "outputs": [
    {
     "name": "stdout",
     "output_type": "stream",
     "text": [
      "3.10.8 | packaged by conda-forge | (main, Nov 22 2022, 08:26:04) [GCC 10.4.0]\n"
     ]
    }
   ],
   "source": [
    "#Mention functions which can help usto find the version of pythonthat we are working on?\n",
    "\n",
    "#1.sys.version - This function returns a string that contains the version of Python and additional information such as the build date, the compiler type, and the platform.\n",
    "import sys\n",
    "\n",
    "print(sys.version)\n"
   ]
  },
  {
   "cell_type": "code",
   "execution_count": 14,
   "id": "694cdbbb-700a-4587-9709-252cda336cd9",
   "metadata": {},
   "outputs": [
    {
     "name": "stdout",
     "output_type": "stream",
     "text": [
      "3.10.8\n"
     ]
    }
   ],
   "source": [
    "#2.platform.python_version() - This function returns a string that contains the version of Python\n",
    "import platform\n",
    "\n",
    "print(platform.python_version())\n",
    "\n"
   ]
  },
  {
   "cell_type": "code",
   "execution_count": 16,
   "id": "b65619fa-50fe-4f04-bf6b-907e34add897",
   "metadata": {},
   "outputs": [
    {
     "name": "stdout",
     "output_type": "stream",
     "text": [
      "sys.version_info(major=3, minor=10, micro=8, releaselevel='final', serial=0)\n"
     ]
    }
   ],
   "source": [
    "#3.sys.version_info - This function returns a tuple that contains the major, minor, and micro version numbers of Python.\n",
    "\n",
    "import sys\n",
    "\n",
    "print(sys.version_info)"
   ]
  },
  {
   "cell_type": "code",
   "execution_count": 18,
   "id": "c643b66b-955c-49db-aeec-be25f7a417c2",
   "metadata": {},
   "outputs": [],
   "source": [
    "#Python supports the creation of anonymous functions at runtime,using a construct called \"lambda\""
   ]
  },
  {
   "cell_type": "code",
   "execution_count": null,
   "id": "dd8e6860-ef44-4fa9-b537-418312399a08",
   "metadata": {},
   "outputs": [],
   "source": [
    "#What does pip stand for python?\n",
    "\n",
    "#PIP stands for \"Pip Installs Packages\" or \"Python Package Installer\". It is a package management system for installing and managing software packages written in Python."
   ]
  },
  {
   "cell_type": "code",
   "execution_count": 19,
   "id": "785c0f4d-01e4-460f-979a-f7c4f9b9c8b0",
   "metadata": {},
   "outputs": [],
   "source": [
    "#Mention a few built-in functions in python?\n",
    "\n",
    "#1.print(): Used to display output to the console or terminal.\n",
    "#2.input(): Used to take user input from the console or terminal.\n",
    "#3.len(): Used to determine the length of a list, tuple, or string.\n",
    "#4.type(): Used to determine the data type of a variable.\n",
    "#5.range(): Used to generate a sequence of numbers."
   ]
  },
  {
   "cell_type": "code",
   "execution_count": 20,
   "id": "e7089325-9084-42ed-bea3-e3f7411c706f",
   "metadata": {},
   "outputs": [],
   "source": [
    "#What is the maximum length of an identifier in python?\n",
    "\n",
    "#In Python, the maximum length of an identifier is not explicitly defined. However, the PEP 8 style guide recommends using a maximum line length of 79 characters, including any identifier names"
   ]
  },
  {
   "cell_type": "code",
   "execution_count": 21,
   "id": "18d481c2-b8f8-48dd-a033-cae97dfc61df",
   "metadata": {},
   "outputs": [],
   "source": [
    "#What are benefits of using Python?\n",
    "\n",
    "#1.Simple and Easy-to-Learn\n",
    "#2.Versatility\n",
    "#3.Open-Source\n",
    "#4.Large Community and Support\n",
    "#5.Cross-Platform Compatibility"
   ]
  },
  {
   "cell_type": "code",
   "execution_count": 22,
   "id": "88992083-1106-465c-beb4-a992a17f4d77",
   "metadata": {},
   "outputs": [],
   "source": [
    "#How is memory is managed in python?\n",
    "\n",
    "#In Python, memory is managed automatically using a mechanism called \"garbage collection\". This means that Python takes care of allocating and deallocating memory as needed, without the programmer needing to explicitly allocate or free memory"
   ]
  },
  {
   "cell_type": "code",
   "execution_count": null,
   "id": "0452ea75-6b90-48fb-b94f-47f9f2ca0e70",
   "metadata": {},
   "outputs": [],
   "source": [
    "#How to install python on windows and set path variables?\n",
    "\n",
    "#1.Download the Python installer from the official website (https://www.python.org/downloads/windows/) for your version of Windows (32-bit or 64-bit).\n",
    "\n",
    "#2.Run the installer and follow the instructions to install Python. You can choose the default options unless you have a specific reason to change them.\n",
    "\n",
    "#3.During the installation, make sure to check the option \"Add Python to PATH\" in the Customize Python screen. This will add Python to your system's PATH environment variable, allowing you to use Python from any directory in the command prompt.\n",
    "\n",
    "#4.Once the installation is complete, open the command prompt and type \"python\" to check if it's installed correctly. You should see the Python version information printed on the screen.\n",
    "\n",
    "#5.To set up the path variables manually, go to \"Control Panel\" -> \"System and Security\" -> \"System\" -> \"Advanced system settings\" -> \"Environment Variables\".\n",
    "\n",
    "#6.In the \"System variables\" section, find the \"Path\" variable and click \"Edit\". Add the path to your Python installation directory (e.g. \"C:\\Python39\") at the end of the \"Variable value\" field, separated by a semicolon from the previous path.\n",
    "\n",
    "#7.Click \"OK\" to save the changes and close all the windows.\n",
    "\n",
    "#8.To verify that the path variables are set correctly, open a new command prompt window and type \"python\" again. If it works, you should be able to run Python from any directory by simply typing \"python\" in the command prompt."
   ]
  },
  {
   "cell_type": "code",
   "execution_count": null,
   "id": "d0a7a321-d62e-442e-b4c5-f3ba93fe6940",
   "metadata": {},
   "outputs": [],
   "source": [
    "#Is indentation required in python?\n",
    "\n",
    "#Yes, indentation is required in Python. In Python, indentation is used to define blocks of code, such as loops, conditionals, and functions."
   ]
  },
  {
   "cell_type": "code",
   "execution_count": null,
   "id": "4a9dbdd8-cb2b-40f5-a45e-df4fa0c21556",
   "metadata": {},
   "outputs": [],
   "source": []
  }
 ],
 "metadata": {
  "kernelspec": {
   "display_name": "Python 3 (ipykernel)",
   "language": "python",
   "name": "python3"
  },
  "language_info": {
   "codemirror_mode": {
    "name": "ipython",
    "version": 3
   },
   "file_extension": ".py",
   "mimetype": "text/x-python",
   "name": "python",
   "nbconvert_exporter": "python",
   "pygments_lexer": "ipython3",
   "version": "3.10.8"
  }
 },
 "nbformat": 4,
 "nbformat_minor": 5
}
